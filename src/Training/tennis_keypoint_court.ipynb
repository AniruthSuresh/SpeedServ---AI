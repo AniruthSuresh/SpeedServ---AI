{
 "cells": [
  {
   "cell_type": "markdown",
   "metadata": {},
   "source": [
    "## Get the dataset and unzip it"
   ]
  },
  {
   "cell_type": "code",
   "execution_count": 21,
   "metadata": {},
   "outputs": [
    {
     "name": "stdout",
     "output_type": "stream",
     "text": [
      "Requirement already satisfied: ijson in /home/aniruth/anaconda3/envs/tennis/lib/python3.12/site-packages (3.3.0)\n"
     ]
    }
   ],
   "source": [
    "!pip install ijson"
   ]
  },
  {
   "cell_type": "code",
   "execution_count": 24,
   "metadata": {},
   "outputs": [],
   "source": [
    "import torch\n",
    "from torch.utils.data import Dataset, DataLoader\n",
    "from torchvision import models , transforms \n",
    "import json\n",
    "import cv2 as cv2\n",
    "import numpy as np "
   ]
  },
  {
   "cell_type": "code",
   "execution_count": 17,
   "metadata": {},
   "outputs": [],
   "source": [
    "device = torch.device(\"cuda\" if torch.cuda.is_available() else \"cpu\")"
   ]
  },
  {
   "cell_type": "markdown",
   "metadata": {},
   "source": [
    "## Creating a torch dataset"
   ]
  },
  {
   "cell_type": "code",
   "execution_count": 27,
   "metadata": {},
   "outputs": [],
   "source": [
    "\n",
    "class keypointdetect(Dataset):\n",
    "    def __init__(self , img_dir , file) -> None:\n",
    "        self.img_dir = img_dir\n",
    "        with open(file , \"r\") as f:\n",
    "            self.data = json.load(f)\n",
    "\n",
    "\n",
    "        self.transform = transforms.Compose(\n",
    "            [\n",
    "                transforms.ToPILImage(),\n",
    "                transforms.Resize((224, 224)),\n",
    "                transforms.ToTensor(),\n",
    "\n",
    "                # default mean and std value\n",
    "                transforms.Normalize(mean=[0.485, 0.456, 0.406], std=[0.229, 0.224, 0.225])\n",
    "            ]\n",
    "        )\n",
    "\n",
    "    def __len__(self):\n",
    "        return len(self.data)\n",
    "\n",
    "    def __getitem__(self , ind):\n",
    "        item = self.data[ind]\n",
    "        img = cv2.imread(f\"{self.img_dir}/{item['id']}.png\")\n",
    "        h , w = img.shape[:2]\n",
    "\n",
    "        img = cv2.cvtColor(img , cv2.COLOR_BGR2RGB) # convert it to RGB format\n",
    "        img = self.transform(img)\n",
    "\n",
    "        # keypoints are in the list -> we need to convert to numpy and also convert nD to 1D\n",
    "        keypoints = np.array(item['kps']).flatten()\n",
    "        keypoints = kps.astype(np.float32)\n",
    "\n",
    "        # adjust the (x, y) of the keypoints as we resize the image \n",
    "        keypoints[::2]*= 224.0/w # adjust x -> skips 2 at a time from 0\n",
    "        keypoints[1::2]*= 224.0/h \n",
    "        return img , keypoints\n",
    "        \n",
    "        "
   ]
  },
  {
   "cell_type": "code",
   "execution_count": null,
   "metadata": {},
   "outputs": [],
   "source": [
    "train_dtset = KeypointsDataset(\"data/images\" , \"data/data_train.json\")\n",
    "val_dtset = KeypointsDataset(\"data/images\" , \"data/data_val.json\")\n",
    "\n",
    "train_loader = DataLoader(train_dtset , batch_size= 8 , shuffle= True)\n",
    "val_loader = DataLoader(val_dtset , batch_size= 8 , shuffle= True)\n",
    "\n"
   ]
  },
  {
   "cell_type": "markdown",
   "metadata": {},
   "source": [
    "## Create a model -> Use ResNet\n"
   ]
  },
  {
   "cell_type": "code",
   "execution_count": null,
   "metadata": {},
   "outputs": [],
   "source": [
    "model = models.resnet50(pretrained = True)\n",
    "\n",
    "# we just change the last layer so that we get the 28 vector as prediction \n",
    "# last layer = fully connected\n",
    "model.fc = torch.nn.Linear(model.fc.in_features , 14*2) \n",
    "\n",
    "model = model.to(device)"
   ]
  },
  {
   "cell_type": "markdown",
   "metadata": {},
   "source": [
    "## Training the model"
   ]
  },
  {
   "cell_type": "code",
   "execution_count": null,
   "metadata": {},
   "outputs": [],
   "source": [
    "criterion = torch.nn.MSELoss()\n",
    "optimizer = torch.option.Adam(model.parameters() , lr = 1e-4)\n",
    "\n",
    "epochs = 25\n",
    "\n",
    "for epoch in range(epochs):\n",
    "    for i , (img , keypoints) in enumerate(train_loader):\n",
    "        imgs = imgs.to(device)\n",
    "        keypoints =keypoints.to(device)\n",
    "\n",
    "        optimizer.zero_grad()\n",
    "        outputs = model(imgs)\n",
    "        loss = criterion(outputs , keypoints)\n",
    "\n",
    "        loss.backwards()\n",
    "        optimizer.step()\n",
    "\n",
    "        if(i%10==0):\n",
    "            print(f\"Epochs {epoch} , iter {i} , loss : {loss.item()}\")\n",
    "\n"
   ]
  },
  {
   "cell_type": "code",
   "execution_count": null,
   "metadata": {},
   "outputs": [],
   "source": [
    "model.save(model._save_to_state_dict() , \"Keypoints_detect.pth\")"
   ]
  }
 ],
 "metadata": {
  "kernelspec": {
   "display_name": "tennis",
   "language": "python",
   "name": "python3"
  },
  "language_info": {
   "codemirror_mode": {
    "name": "ipython",
    "version": 3
   },
   "file_extension": ".py",
   "mimetype": "text/x-python",
   "name": "python",
   "nbconvert_exporter": "python",
   "pygments_lexer": "ipython3",
   "version": "3.12.4"
  }
 },
 "nbformat": 4,
 "nbformat_minor": 2
}
